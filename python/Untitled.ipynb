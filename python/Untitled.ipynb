{
 "cells": [
  {
   "cell_type": "code",
   "execution_count": 28,
   "metadata": {},
   "outputs": [],
   "source": [
    "import requests\n",
    "import pandas as pd\n",
    "\n",
    "url = 'https://datos.estadisticas.pr/api/action/datastore_search?resource_id=824d2a93-7998-4f37-8fe9-9e110913ec5e&limit='\n",
    "num = 10000000"
   ]
  },
  {
   "cell_type": "code",
   "execution_count": 29,
   "metadata": {},
   "outputs": [],
   "source": [
    "def get_tf_data(url, num):\n",
    "    num = str(num)\n",
    "    url = url + num\n",
    "    \n",
    "    data_response = requests.get(url)\n",
    "    data_table_prem = pd.DataFrame.from_dict(data_response.json()['result']['records'])\n",
    "    data_table_final = data_table_prem.drop(columns=['_id'])\n",
    "    data_table_final.to_csv(\"python-csv-dataset.csv\", index=False)"
   ]
  },
  {
   "cell_type": "code",
   "execution_count": null,
   "metadata": {},
   "outputs": [],
   "source": []
  }
 ],
 "metadata": {
  "kernelspec": {
   "display_name": "Python 3",
   "language": "python",
   "name": "python3"
  },
  "language_info": {
   "codemirror_mode": {
    "name": "ipython",
    "version": 3
   },
   "file_extension": ".py",
   "mimetype": "text/x-python",
   "name": "python",
   "nbconvert_exporter": "python",
   "pygments_lexer": "ipython3",
   "version": "3.6.4"
  }
 },
 "nbformat": 4,
 "nbformat_minor": 2
}
